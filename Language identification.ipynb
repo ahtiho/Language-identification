{
 "cells": [
  {
   "cell_type": "code",
   "execution_count": 45,
   "id": "f5c17781",
   "metadata": {},
   "outputs": [
    {
     "ename": "ModuleNotFoundError",
     "evalue": "No module named 'seaborn'",
     "output_type": "error",
     "traceback": [
      "\u001b[0;31m---------------------------------------------------------------------------\u001b[0m",
      "\u001b[0;31mModuleNotFoundError\u001b[0m                       Traceback (most recent call last)",
      "Cell \u001b[0;32mIn[45], line 5\u001b[0m\n\u001b[1;32m      3\u001b[0m \u001b[38;5;28;01mimport\u001b[39;00m \u001b[38;5;21;01mnumpy\u001b[39;00m \u001b[38;5;28;01mas\u001b[39;00m \u001b[38;5;21;01mnp\u001b[39;00m\n\u001b[1;32m      4\u001b[0m \u001b[38;5;28;01mimport\u001b[39;00m \u001b[38;5;21;01mmatplotlib\u001b[39;00m \u001b[38;5;28;01mas\u001b[39;00m \u001b[38;5;21;01mplt\u001b[39;00m\n\u001b[0;32m----> 5\u001b[0m \u001b[38;5;28;01mimport\u001b[39;00m \u001b[38;5;21;01mseaborn\u001b[39;00m \u001b[38;5;28;01mas\u001b[39;00m \u001b[38;5;21;01msn\u001b[39;00m\n",
      "\u001b[0;31mModuleNotFoundError\u001b[0m: No module named 'seaborn'"
     ]
    }
   ],
   "source": [
    "import tensorflow as tf\n",
    "import pandas as pd\n",
    "import numpy as np\n",
    "import matplotlib as plt\n",
    "import seaborn as sn\n"
   ]
  },
  {
   "cell_type": "code",
   "execution_count": 59,
   "id": "6f4517fc",
   "metadata": {},
   "outputs": [
    {
     "data": {
      "text/html": [
       "<div>\n",
       "<style scoped>\n",
       "    .dataframe tbody tr th:only-of-type {\n",
       "        vertical-align: middle;\n",
       "    }\n",
       "\n",
       "    .dataframe tbody tr th {\n",
       "        vertical-align: top;\n",
       "    }\n",
       "\n",
       "    .dataframe thead th {\n",
       "        text-align: right;\n",
       "    }\n",
       "</style>\n",
       "<table border=\"1\" class=\"dataframe\">\n",
       "  <thead>\n",
       "    <tr style=\"text-align: right;\">\n",
       "      <th></th>\n",
       "      <th>Language</th>\n",
       "      <th>Text</th>\n",
       "    </tr>\n",
       "  </thead>\n",
       "  <tbody>\n",
       "    <tr>\n",
       "      <th>0</th>\n",
       "      <td>bg</td>\n",
       "      <td>Състав на Парламента: вж. протоколи</td>\n",
       "    </tr>\n",
       "    <tr>\n",
       "      <th>1</th>\n",
       "      <td>bg</td>\n",
       "      <td>Одобряване на протокола от предишното заседани...</td>\n",
       "    </tr>\n",
       "    <tr>\n",
       "      <th>2</th>\n",
       "      <td>bg</td>\n",
       "      <td>Състав на Парламента: вж. протоколи</td>\n",
       "    </tr>\n",
       "    <tr>\n",
       "      <th>3</th>\n",
       "      <td>bg</td>\n",
       "      <td>Проверка на пълномощията: вж. протоколи</td>\n",
       "    </tr>\n",
       "    <tr>\n",
       "      <th>4</th>\n",
       "      <td>bg</td>\n",
       "      <td>Внасяне на документи: вж. протоколи</td>\n",
       "    </tr>\n",
       "  </tbody>\n",
       "</table>\n",
       "</div>"
      ],
      "text/plain": [
       "  Language                                               Text\n",
       "0       bg                Състав на Парламента: вж. протоколи\n",
       "1       bg  Одобряване на протокола от предишното заседани...\n",
       "2       bg                Състав на Парламента: вж. протоколи\n",
       "3       bg            Проверка на пълномощията: вж. протоколи\n",
       "4       bg                Внасяне на документи: вж. протоколи"
      ]
     },
     "execution_count": 59,
     "metadata": {},
     "output_type": "execute_result"
    }
   ],
   "source": [
    "#Loading the dataset  \n",
    "df = pd.read_csv('/Users/ahtiholli/Downloads/data/europarl.csv', header = None)\n",
    "df.rename(columns={0: 'Language'}, inplace=True)\n",
    "df.rename(columns={1: 'Text'}, inplace=True)\n",
    "df.head()\n"
   ]
  },
  {
   "cell_type": "code",
   "execution_count": 60,
   "id": "2829c8c6",
   "metadata": {},
   "outputs": [
    {
     "data": {
      "text/plain": [
       "Language    832305\n",
       "Text        832274\n",
       "dtype: int64"
      ]
     },
     "execution_count": 60,
     "metadata": {},
     "output_type": "execute_result"
    }
   ],
   "source": [
    "#The dataset is sorted by language, thus we need to randomize the indexes it for optimizing learning\n",
    "reindexed_df = df.sample(frac=1).reset_index(drop=True)\n",
    "reindexed_df.head()\n",
    "reindexed_df.count()\n",
    "\n"
   ]
  },
  {
   "cell_type": "code",
   "execution_count": 61,
   "id": "4a75723f",
   "metadata": {},
   "outputs": [],
   "source": [
    "#Separating the variables and then converting the categorial language value into a numerical value\n",
    "\n",
    "reindexed_df = df.sample(frac=0.01, random_state=49) \n",
    "reindexed_df.count()\n",
    "y = reindexed_df['Language']\n",
    "X = reindexed_df['Text']\n",
    "\n",
    "from sklearn.preprocessing import LabelEncoder\n",
    "le = LabelEncoder()\n",
    "y = le.fit_transform(y)\n",
    "\n"
   ]
  },
  {
   "cell_type": "code",
   "execution_count": 62,
   "id": "bf27df2d",
   "metadata": {},
   "outputs": [],
   "source": [
    "#Now we'll preprocess the text and remove any symbols or numbers and also transform the text into lower case\n",
    "import re\n",
    "list_of_sentences = []\n",
    "\n",
    "for sentence in X:\n",
    "    \n",
    "    try:\n",
    "        sentence = re.sub(r'[!@#$(),\"%^*?:.;~`0-9]', '', sentence)\n",
    "        sentence = re.sub(r'[[]]', '', sentence)\n",
    "        sentence = sentence.lower()\n",
    "        list_of_sentences.append(sentence)\n",
    "        \n",
    "    except TypeError:\n",
    "        continue\n",
    "        \n",
    "        \n"
   ]
  },
  {
   "cell_type": "code",
   "execution_count": 64,
   "id": "edc17cae",
   "metadata": {},
   "outputs": [
    {
     "name": "stdout",
     "output_type": "stream",
     "text": [
      "(8323, 113908)\n"
     ]
    }
   ],
   "source": [
    "from sklearn.feature_extraction.text import CountVectorizer\n",
    "import numpy as np\n",
    "\n",
    "#We'll apply the count vectorizer in chunks because of the large sample size and without the chunking the kernel kept crashing\n",
    "cv = CountVectorizer()\n",
    "\n",
    "cv.fit(list_of_sentences)\n",
    "\n",
    "chunk_size = 500\n",
    "\n",
    "\n",
    "X_final = None\n",
    "\n",
    "for i in range(0, len(list_of_sentences), chunk_size):\n",
    "    chunk_sentences = list_of_sentences[i:i + chunk_size]\n",
    "\n",
    "    X_chunk = cv.transform(chunk_sentences).toarray()\n",
    "\n",
    "    if X_final is None:\n",
    "        X_final = X_chunk\n",
    "    else:\n",
    "        X_final = np.concatenate((X_final, X_chunk), axis=0)\n",
    "\n",
    "\n",
    "print(X_final.shape)\n",
    "\n"
   ]
  },
  {
   "cell_type": "code",
   "execution_count": 65,
   "id": "6266c9a5",
   "metadata": {},
   "outputs": [],
   "source": [
    "from sklearn.model_selection import train_test_split\n",
    "X_train, X_test, Y_train, Y_test = train_test_split(X_final,y, test_size = 0.2)"
   ]
  },
  {
   "cell_type": "code",
   "execution_count": 66,
   "id": "7e949c9e",
   "metadata": {},
   "outputs": [
    {
     "data": {
      "text/html": [
       "<style>#sk-container-id-4 {color: black;background-color: white;}#sk-container-id-4 pre{padding: 0;}#sk-container-id-4 div.sk-toggleable {background-color: white;}#sk-container-id-4 label.sk-toggleable__label {cursor: pointer;display: block;width: 100%;margin-bottom: 0;padding: 0.3em;box-sizing: border-box;text-align: center;}#sk-container-id-4 label.sk-toggleable__label-arrow:before {content: \"▸\";float: left;margin-right: 0.25em;color: #696969;}#sk-container-id-4 label.sk-toggleable__label-arrow:hover:before {color: black;}#sk-container-id-4 div.sk-estimator:hover label.sk-toggleable__label-arrow:before {color: black;}#sk-container-id-4 div.sk-toggleable__content {max-height: 0;max-width: 0;overflow: hidden;text-align: left;background-color: #f0f8ff;}#sk-container-id-4 div.sk-toggleable__content pre {margin: 0.2em;color: black;border-radius: 0.25em;background-color: #f0f8ff;}#sk-container-id-4 input.sk-toggleable__control:checked~div.sk-toggleable__content {max-height: 200px;max-width: 100%;overflow: auto;}#sk-container-id-4 input.sk-toggleable__control:checked~label.sk-toggleable__label-arrow:before {content: \"▾\";}#sk-container-id-4 div.sk-estimator input.sk-toggleable__control:checked~label.sk-toggleable__label {background-color: #d4ebff;}#sk-container-id-4 div.sk-label input.sk-toggleable__control:checked~label.sk-toggleable__label {background-color: #d4ebff;}#sk-container-id-4 input.sk-hidden--visually {border: 0;clip: rect(1px 1px 1px 1px);clip: rect(1px, 1px, 1px, 1px);height: 1px;margin: -1px;overflow: hidden;padding: 0;position: absolute;width: 1px;}#sk-container-id-4 div.sk-estimator {font-family: monospace;background-color: #f0f8ff;border: 1px dotted black;border-radius: 0.25em;box-sizing: border-box;margin-bottom: 0.5em;}#sk-container-id-4 div.sk-estimator:hover {background-color: #d4ebff;}#sk-container-id-4 div.sk-parallel-item::after {content: \"\";width: 100%;border-bottom: 1px solid gray;flex-grow: 1;}#sk-container-id-4 div.sk-label:hover label.sk-toggleable__label {background-color: #d4ebff;}#sk-container-id-4 div.sk-serial::before {content: \"\";position: absolute;border-left: 1px solid gray;box-sizing: border-box;top: 0;bottom: 0;left: 50%;z-index: 0;}#sk-container-id-4 div.sk-serial {display: flex;flex-direction: column;align-items: center;background-color: white;padding-right: 0.2em;padding-left: 0.2em;position: relative;}#sk-container-id-4 div.sk-item {position: relative;z-index: 1;}#sk-container-id-4 div.sk-parallel {display: flex;align-items: stretch;justify-content: center;background-color: white;position: relative;}#sk-container-id-4 div.sk-item::before, #sk-container-id-4 div.sk-parallel-item::before {content: \"\";position: absolute;border-left: 1px solid gray;box-sizing: border-box;top: 0;bottom: 0;left: 50%;z-index: -1;}#sk-container-id-4 div.sk-parallel-item {display: flex;flex-direction: column;z-index: 1;position: relative;background-color: white;}#sk-container-id-4 div.sk-parallel-item:first-child::after {align-self: flex-end;width: 50%;}#sk-container-id-4 div.sk-parallel-item:last-child::after {align-self: flex-start;width: 50%;}#sk-container-id-4 div.sk-parallel-item:only-child::after {width: 0;}#sk-container-id-4 div.sk-dashed-wrapped {border: 1px dashed gray;margin: 0 0.4em 0.5em 0.4em;box-sizing: border-box;padding-bottom: 0.4em;background-color: white;}#sk-container-id-4 div.sk-label label {font-family: monospace;font-weight: bold;display: inline-block;line-height: 1.2em;}#sk-container-id-4 div.sk-label-container {text-align: center;}#sk-container-id-4 div.sk-container {/* jupyter's `normalize.less` sets `[hidden] { display: none; }` but bootstrap.min.css set `[hidden] { display: none !important; }` so we also need the `!important` here to be able to override the default hidden behavior on the sphinx rendered scikit-learn.org. See: https://github.com/scikit-learn/scikit-learn/issues/21755 */display: inline-block !important;position: relative;}#sk-container-id-4 div.sk-text-repr-fallback {display: none;}</style><div id=\"sk-container-id-4\" class=\"sk-top-container\"><div class=\"sk-text-repr-fallback\"><pre>MultinomialNB()</pre><b>In a Jupyter environment, please rerun this cell to show the HTML representation or trust the notebook. <br />On GitHub, the HTML representation is unable to render, please try loading this page with nbviewer.org.</b></div><div class=\"sk-container\" hidden><div class=\"sk-item\"><div class=\"sk-estimator sk-toggleable\"><input class=\"sk-toggleable__control sk-hidden--visually\" id=\"sk-estimator-id-4\" type=\"checkbox\" checked><label for=\"sk-estimator-id-4\" class=\"sk-toggleable__label sk-toggleable__label-arrow\">MultinomialNB</label><div class=\"sk-toggleable__content\"><pre>MultinomialNB()</pre></div></div></div></div></div>"
      ],
      "text/plain": [
       "MultinomialNB()"
      ]
     },
     "execution_count": 66,
     "metadata": {},
     "output_type": "execute_result"
    }
   ],
   "source": [
    "#We'll use Multinomial Native Bayes classification model for this instance for it's simplicity, quickness. For a more advanced solution neural networks should be considered as an option\n",
    "from sklearn.naive_bayes import MultinomialNB\n",
    "model = MultinomialNB()\n",
    "model.fit(X_train, Y_train)\n"
   ]
  },
  {
   "cell_type": "code",
   "execution_count": 67,
   "id": "fcce9bb8",
   "metadata": {},
   "outputs": [],
   "source": [
    "y_pred = model.predict(X_test)"
   ]
  },
  {
   "cell_type": "code",
   "execution_count": 68,
   "id": "02279c7b",
   "metadata": {},
   "outputs": [
    {
     "name": "stdout",
     "output_type": "stream",
     "text": [
      "Accuracy is : 0.9843843843843844\n"
     ]
    }
   ],
   "source": [
    "from sklearn.metrics import accuracy_score, \n",
    "ac = accuracy_score(Y_test, y_pred)\n",
    "\n",
    "print(\"Accuracy is :\",ac)\n",
    "#The accuracy is roughly 98%"
   ]
  },
  {
   "cell_type": "code",
   "execution_count": 69,
   "id": "46ce8fd3",
   "metadata": {},
   "outputs": [],
   "source": [
    "# Let's create a function to test the model\n",
    "def predict(text):\n",
    "     x = cv.transform([text]).toarray() \n",
    "     lang = model.predict(x) \n",
    "     lang = le.inverse_transform(lang) \n",
    "     print(\"The language is in\",lang[0])\n",
    "    \n",
    "    "
   ]
  },
  {
   "cell_type": "code",
   "execution_count": 70,
   "id": "9dd5f147",
   "metadata": {},
   "outputs": [
    {
     "name": "stdout",
     "output_type": "stream",
     "text": [
      "The language is in en\n"
     ]
    }
   ],
   "source": [
    "#English\n",
    "predict('Machine learning (ML) is an umbrella term for solving problems for which development of algorithms by human programmers would be cost-prohibitive, and instead the problems are solved by helping machines discover their own algorithms')"
   ]
  },
  {
   "cell_type": "code",
   "execution_count": 71,
   "id": "932e96e7",
   "metadata": {},
   "outputs": [
    {
     "name": "stdout",
     "output_type": "stream",
     "text": [
      "The language is in fi\n"
     ]
    }
   ],
   "source": [
    "#Finnish\n",
    "predict('Koneoppiminen (ML) on sateenvarjotermi sellaisten ongelmien ratkaisemiselle, joihin algoritmien kehittäminen ihmisohjelmoijien toimesta olisi liian kallista, ja sen sijaan ongelmat ratkaistaan auttamalla koneita \"löytämään\" omat algoritminsa.')"
   ]
  },
  {
   "cell_type": "code",
   "execution_count": 72,
   "id": "c89716b7",
   "metadata": {},
   "outputs": [
    {
     "name": "stdout",
     "output_type": "stream",
     "text": [
      "The language is in es\n"
     ]
    }
   ],
   "source": [
    "#Spanish\n",
    "predict('El aprendizaje automático (AM) es un término genérico para resolver problemas para los que el desarrollo de algoritmos por parte de programadores humanos resultaría prohibitivo y, en su lugar, los problemas se resuelven ayudando a las máquinas a \"descubrir\" sus \"propios\" algoritmos.')"
   ]
  },
  {
   "cell_type": "code",
   "execution_count": 73,
   "id": "bf3ffb55",
   "metadata": {},
   "outputs": [
    {
     "name": "stdout",
     "output_type": "stream",
     "text": [
      "The language is in fr\n"
     ]
    }
   ],
   "source": [
    "#French\n",
    "predict(\"L'apprentissage automatique est un terme générique qui désigne la résolution de problèmes pour lesquels le développement d'algorithmes par des programmeurs humains serait prohibitif, et qui sont résolus en aidant les machines à découvrir leurs propres algorithmes.\")"
   ]
  },
  {
   "cell_type": "code",
   "execution_count": 74,
   "id": "95f3d82b",
   "metadata": {},
   "outputs": [
    {
     "name": "stdout",
     "output_type": "stream",
     "text": [
      "The language is in pt\n"
     ]
    }
   ],
   "source": [
    "#Portuguese\n",
    "predict('A aprendizagem automática (AM) é um termo genérico para a resolução de problemas para os quais o desenvolvimento de algoritmos por programadores humanos teria custos proibitivos e, em vez disso, os problemas são resolvidos ajudando as máquinas a \"descobrir\" os seus \"próprios\" algoritmos')"
   ]
  },
  {
   "cell_type": "code",
   "execution_count": 75,
   "id": "2b415312",
   "metadata": {},
   "outputs": [
    {
     "name": "stdout",
     "output_type": "stream",
     "text": [
      "The language is in sv\n"
     ]
    }
   ],
   "source": [
    "#Swedish\n",
    "predict('Maskininlärning (ML) är ett samlingsnamn för problemlösning där det skulle vara för dyrt för mänskliga programmerare att utveckla algoritmer, och där problemen istället löses genom att hjälpa maskiner att \"upptäcka\" sina \"egna\" algoritmer')"
   ]
  }
 ],
 "metadata": {
  "kernelspec": {
   "display_name": "Python 3.10 (tensorflow)",
   "language": "python",
   "name": "venv-metal"
  },
  "language_info": {
   "codemirror_mode": {
    "name": "ipython",
    "version": 3
   },
   "file_extension": ".py",
   "mimetype": "text/x-python",
   "name": "python",
   "nbconvert_exporter": "python",
   "pygments_lexer": "ipython3",
   "version": "3.9.6"
  }
 },
 "nbformat": 4,
 "nbformat_minor": 5
}
