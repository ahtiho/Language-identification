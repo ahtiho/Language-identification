{
 "cells": [
  {
   "cell_type": "code",
   "execution_count": 76,
   "id": "26052cff",
   "metadata": {},
   "outputs": [],
   "source": [
    "# Importing all the libraries\n",
    "\n",
    "import pandas as pd\n",
    "import numpy as np\n",
    "import matplotlib as plt\n",
    "import seaborn as sns\n",
    "from sklearn.preprocessing import LabelEncoder\n",
    "import re\n",
    "from sklearn.model_selection import train_test_split\n",
    "from sklearn.naive_bayes import MultinomialNB\n",
    "from sklearn.metrics import confusion_matrix\n",
    "import matplotlib.pyplot as plt"
   ]
  },
  {
   "cell_type": "code",
   "execution_count": 77,
   "id": "8f76c042",
   "metadata": {},
   "outputs": [
    {
     "data": {
      "text/html": [
       "<div>\n",
       "<style scoped>\n",
       "    .dataframe tbody tr th:only-of-type {\n",
       "        vertical-align: middle;\n",
       "    }\n",
       "\n",
       "    .dataframe tbody tr th {\n",
       "        vertical-align: top;\n",
       "    }\n",
       "\n",
       "    .dataframe thead th {\n",
       "        text-align: right;\n",
       "    }\n",
       "</style>\n",
       "<table border=\"1\" class=\"dataframe\">\n",
       "  <thead>\n",
       "    <tr style=\"text-align: right;\">\n",
       "      <th></th>\n",
       "      <th>Language</th>\n",
       "      <th>Text</th>\n",
       "    </tr>\n",
       "  </thead>\n",
       "  <tbody>\n",
       "    <tr>\n",
       "      <th>0</th>\n",
       "      <td>bg</td>\n",
       "      <td>Състав на Парламента: вж. протоколи</td>\n",
       "    </tr>\n",
       "    <tr>\n",
       "      <th>1</th>\n",
       "      <td>bg</td>\n",
       "      <td>Одобряване на протокола от предишното заседани...</td>\n",
       "    </tr>\n",
       "    <tr>\n",
       "      <th>2</th>\n",
       "      <td>bg</td>\n",
       "      <td>Състав на Парламента: вж. протоколи</td>\n",
       "    </tr>\n",
       "    <tr>\n",
       "      <th>3</th>\n",
       "      <td>bg</td>\n",
       "      <td>Проверка на пълномощията: вж. протоколи</td>\n",
       "    </tr>\n",
       "    <tr>\n",
       "      <th>4</th>\n",
       "      <td>bg</td>\n",
       "      <td>Внасяне на документи: вж. протоколи</td>\n",
       "    </tr>\n",
       "  </tbody>\n",
       "</table>\n",
       "</div>"
      ],
      "text/plain": [
       "  Language                                               Text\n",
       "0       bg                Състав на Парламента: вж. протоколи\n",
       "1       bg  Одобряване на протокола от предишното заседани...\n",
       "2       bg                Състав на Парламента: вж. протоколи\n",
       "3       bg            Проверка на пълномощията: вж. протоколи\n",
       "4       bg                Внасяне на документи: вж. протоколи"
      ]
     },
     "execution_count": 77,
     "metadata": {},
     "output_type": "execute_result"
    }
   ],
   "source": [
    "#Loading the dataset  \n",
    "df = pd.read_csv('/Users/ahtiholli/Downloads/data/europarl.csv', header = None)\n",
    "df.rename(columns={0: 'Language'}, inplace=True)\n",
    "df.rename(columns={1: 'Text'}, inplace=True)\n",
    "df.head()\n"
   ]
  },
  {
   "cell_type": "code",
   "execution_count": 78,
   "id": "981e8973",
   "metadata": {},
   "outputs": [
    {
     "data": {
      "text/html": [
       "<div>\n",
       "<style scoped>\n",
       "    .dataframe tbody tr th:only-of-type {\n",
       "        vertical-align: middle;\n",
       "    }\n",
       "\n",
       "    .dataframe tbody tr th {\n",
       "        vertical-align: top;\n",
       "    }\n",
       "\n",
       "    .dataframe thead th {\n",
       "        text-align: right;\n",
       "    }\n",
       "</style>\n",
       "<table border=\"1\" class=\"dataframe\">\n",
       "  <thead>\n",
       "    <tr style=\"text-align: right;\">\n",
       "      <th></th>\n",
       "      <th>Language</th>\n",
       "      <th>Text</th>\n",
       "    </tr>\n",
       "  </thead>\n",
       "  <tbody>\n",
       "    <tr>\n",
       "      <th>0</th>\n",
       "      <td>sk</td>\n",
       "      <td>musím však povedať, že zo strany tabakového pr...</td>\n",
       "    </tr>\n",
       "    <tr>\n",
       "      <th>1</th>\n",
       "      <td>sl</td>\n",
       "      <td>gospod predsednik, komisija veliko govori o sp...</td>\n",
       "    </tr>\n",
       "    <tr>\n",
       "      <th>2</th>\n",
       "      <td>cs</td>\n",
       "      <td>a konečně, musí existovat opatření pro sladění...</td>\n",
       "    </tr>\n",
       "    <tr>\n",
       "      <th>3</th>\n",
       "      <td>lv</td>\n",
       "      <td>(aplausi)</td>\n",
       "    </tr>\n",
       "    <tr>\n",
       "      <th>4</th>\n",
       "      <td>en</td>\n",
       "      <td>i would be grateful to you because you made an...</td>\n",
       "    </tr>\n",
       "  </tbody>\n",
       "</table>\n",
       "</div>"
      ],
      "text/plain": [
       "  Language                                               Text\n",
       "0       sk  musím však povedať, že zo strany tabakového pr...\n",
       "1       sl  gospod predsednik, komisija veliko govori o sp...\n",
       "2       cs  a konečně, musí existovat opatření pro sladění...\n",
       "3       lv                                          (aplausi)\n",
       "4       en  i would be grateful to you because you made an..."
      ]
     },
     "execution_count": 78,
     "metadata": {},
     "output_type": "execute_result"
    }
   ],
   "source": [
    "#The dataset is sorted by language, thus we need to randomize the indexes it for optimizing learning\n",
    "reindexed_df = df.sample(frac=1).reset_index(drop=True)\n",
    "reindexed_df.head()\n",
    "reindexed_df.count()\n",
    "\n",
    "reindexed_df.head()\n"
   ]
  },
  {
   "cell_type": "code",
   "execution_count": 79,
   "id": "73c763b7",
   "metadata": {},
   "outputs": [
    {
     "name": "stdout",
     "output_type": "stream",
     "text": [
      "  Language                                               Text\n",
      "0       de  herr verheugen in dem interview: \"es gehört zu...\n",
      "1       de  deshalb werden die abgeordneten unserer frakti...\n",
      "2       hu  a gyermekkereskedelem és pornográfia növekedés...\n",
      "3       nl  het europees parlement heeft zich op 19 novemb...\n",
      "4       nl  gelijke kansen van vrouwen in de wetenschap mo...\n"
     ]
    }
   ],
   "source": [
    "#Separating the variables and then converting the categorial language value into a numerical value\n",
    "\n",
    "reindexed_df = df.sample(frac=0.01, random_state=100) .reset_index(drop=True)\n",
    "print(reindexed_df.head())\n",
    "\n",
    "y_lang = reindexed_df['Language']\n",
    "X = reindexed_df['Text']\n",
    "y_uniq = np.unique(y_lang) # 20 distinct languages\n",
    "le = LabelEncoder()\n",
    "y = le.fit_transform(y_lang)\n",
    "\n"
   ]
  },
  {
   "cell_type": "code",
   "execution_count": 80,
   "id": "a6c71f8d",
   "metadata": {},
   "outputs": [
    {
     "data": {
      "text/plain": [
       "['herr verheugen in dem interview es gehört zu den fast tragischen entwicklungen der letzten jahre dass das parlament nur in einem einig ist in der opposition zur kommission  herr verheugen welches verständnis haben sie von diesem europäischen parlament sie wären nicht im amt wenn sie nicht unsere zustimmung bekommen hätten',\n",
       " 'deshalb werden die abgeordneten unserer fraktion für die drei heute vorgelegten änderungsanträge stimmen die darauf abzielen die arbeitsweise des beratenden ausschusses für fischerei und aquakultur zu verbessern ihn den betreffenden berufsgruppen und den bedürfnissen der mitgliedstaaten besser anzupassen und schließlich von der kommission zu fordern daß sie dem rat und dem europäischen parlament jährlich einen bericht über die debatten innerhalb dieses ausschusses unterbreitet denn an diesen debatten sind alle institutionen der gemeinschaft und nicht nur die kommission interessiert geht es uns doch darum zu einer ausrichtung der gemeinsamen fischereipolitik beitragen zu können die dem wohlverstandenen interesse unserer flotten entspricht',\n",
       " 'a gyermekkereskedelem és pornográfia növekedése is riasztó mértékű - közismerten éppen a szexuális bűnelkövetők esetében magas a visszaesési arány ebben az összefüggésben lelepleződtek kétes örökbefogadási eljárások is a fejlődő országokból származó gyermekek esetében olyan eljárásokról van szó amelyekben a gyermekkereskedelemtől a szervkereskedelemtől vagy a prostitúciótól sem riadtak vissza',\n",
       " 'het europees parlement heeft zich op  november  uitgesproken over het voorstel voor een verordening betreffende de instelling van eurodac in het door het parlement goedgekeurde document hebben wij enkele wijzigingsvoorstellen gedaan wij hebben onder andere voorgesteld de leeftijd van personen van wie vingerafdrukken moeten worden genomen op  jaar te stellen tevens hebben wij onze bezorgdheid uitgesproken over de uitbreiding van het toepassingsbereik van het eurodac-systeem tot burgers van derde landen illegale immigranten wier situatie volgens ons niets te maken heeft met de toepassing van de overeenkomst van dublin',\n",
       " 'gelijke kansen van vrouwen in de wetenschap moeten echter ook leiden tot een versterking van de inhoudelijke invloed van vrouwen vrouwen en de gender-problematiek moet worden beschouwd als fundamenteel onderzoek dat voor de europese unie van groot belang is de lidstaten moeten nieuwe instrumenten ontwikkelen om het ongebruikte potentieel van vrouwen in onderzoek en opleiding te verhogen en uitwisseling van ervaringen te bevorderen men moet netwerken van vrouwelijke wetenschappers helpen en innoverende projecten steunen en verspreiden zo zien wij bijvoorbeeld dat in spanje en italië het aantal vrouwen in de natuurwetenschappen hoger ligt dan elders dat moet nauwkeurig onderzocht worden']"
      ]
     },
     "execution_count": 80,
     "metadata": {},
     "output_type": "execute_result"
    }
   ],
   "source": [
    "#Now we'll preprocess the text and remove any symbols and numbers, also transform the text into lower case\n",
    "list_of_sentences = []\n",
    "\n",
    "for sentence in X:\n",
    "\n",
    "    sentence = re.sub(r'[!@#$(),\"%^*?:.;~`0-9]', '', sentence)\n",
    "    sentence = re.sub(r'[[]]', '', sentence)\n",
    "    sentence = sentence.lower()\n",
    "    list_of_sentences.append(sentence)\n",
    "        \n",
    "\n",
    "list_of_sentences[:5]        \n",
    "        \n"
   ]
  },
  {
   "cell_type": "code",
   "execution_count": 81,
   "id": "95b06db1",
   "metadata": {},
   "outputs": [
    {
     "name": "stdout",
     "output_type": "stream",
     "text": [
      "(8323, 112846)\n"
     ]
    }
   ],
   "source": [
    "from sklearn.feature_extraction.text import CountVectorizer\n",
    "import numpy as np\n",
    "\n",
    "#We'll apply the count vectorizer in chunks because of the large sample size and without the chunking the kernel was crashing\n",
    "cv = CountVectorizer()\n",
    "\n",
    "cv.fit(list_of_sentences)\n",
    "\n",
    "chunk_size = 500\n",
    "\n",
    "\n",
    "X_final = None\n",
    "\n",
    "for i in range(0, len(list_of_sentences), chunk_size):\n",
    "    chunk_sentences = list_of_sentences[i:i + chunk_size]\n",
    "\n",
    "    X_chunk = cv.transform(chunk_sentences).toarray()\n",
    "\n",
    "    if X_final is None:\n",
    "        X_final = X_chunk\n",
    "    else:\n",
    "        X_final = np.concatenate((X_final, X_chunk), axis=0)\n",
    "\n",
    "\n",
    "print(X_final.shape)\n",
    "\n"
   ]
  },
  {
   "cell_type": "code",
   "execution_count": 82,
   "id": "a8ec1879",
   "metadata": {},
   "outputs": [],
   "source": [
    "\n",
    "X_train, X_test, Y_train, Y_test = train_test_split(X_final,y, test_size = 0.2)"
   ]
  },
  {
   "cell_type": "code",
   "execution_count": 83,
   "id": "0d4a1bd3",
   "metadata": {},
   "outputs": [
    {
     "data": {
      "text/html": [
       "<style>#sk-container-id-2 {color: black;background-color: white;}#sk-container-id-2 pre{padding: 0;}#sk-container-id-2 div.sk-toggleable {background-color: white;}#sk-container-id-2 label.sk-toggleable__label {cursor: pointer;display: block;width: 100%;margin-bottom: 0;padding: 0.3em;box-sizing: border-box;text-align: center;}#sk-container-id-2 label.sk-toggleable__label-arrow:before {content: \"▸\";float: left;margin-right: 0.25em;color: #696969;}#sk-container-id-2 label.sk-toggleable__label-arrow:hover:before {color: black;}#sk-container-id-2 div.sk-estimator:hover label.sk-toggleable__label-arrow:before {color: black;}#sk-container-id-2 div.sk-toggleable__content {max-height: 0;max-width: 0;overflow: hidden;text-align: left;background-color: #f0f8ff;}#sk-container-id-2 div.sk-toggleable__content pre {margin: 0.2em;color: black;border-radius: 0.25em;background-color: #f0f8ff;}#sk-container-id-2 input.sk-toggleable__control:checked~div.sk-toggleable__content {max-height: 200px;max-width: 100%;overflow: auto;}#sk-container-id-2 input.sk-toggleable__control:checked~label.sk-toggleable__label-arrow:before {content: \"▾\";}#sk-container-id-2 div.sk-estimator input.sk-toggleable__control:checked~label.sk-toggleable__label {background-color: #d4ebff;}#sk-container-id-2 div.sk-label input.sk-toggleable__control:checked~label.sk-toggleable__label {background-color: #d4ebff;}#sk-container-id-2 input.sk-hidden--visually {border: 0;clip: rect(1px 1px 1px 1px);clip: rect(1px, 1px, 1px, 1px);height: 1px;margin: -1px;overflow: hidden;padding: 0;position: absolute;width: 1px;}#sk-container-id-2 div.sk-estimator {font-family: monospace;background-color: #f0f8ff;border: 1px dotted black;border-radius: 0.25em;box-sizing: border-box;margin-bottom: 0.5em;}#sk-container-id-2 div.sk-estimator:hover {background-color: #d4ebff;}#sk-container-id-2 div.sk-parallel-item::after {content: \"\";width: 100%;border-bottom: 1px solid gray;flex-grow: 1;}#sk-container-id-2 div.sk-label:hover label.sk-toggleable__label {background-color: #d4ebff;}#sk-container-id-2 div.sk-serial::before {content: \"\";position: absolute;border-left: 1px solid gray;box-sizing: border-box;top: 0;bottom: 0;left: 50%;z-index: 0;}#sk-container-id-2 div.sk-serial {display: flex;flex-direction: column;align-items: center;background-color: white;padding-right: 0.2em;padding-left: 0.2em;position: relative;}#sk-container-id-2 div.sk-item {position: relative;z-index: 1;}#sk-container-id-2 div.sk-parallel {display: flex;align-items: stretch;justify-content: center;background-color: white;position: relative;}#sk-container-id-2 div.sk-item::before, #sk-container-id-2 div.sk-parallel-item::before {content: \"\";position: absolute;border-left: 1px solid gray;box-sizing: border-box;top: 0;bottom: 0;left: 50%;z-index: -1;}#sk-container-id-2 div.sk-parallel-item {display: flex;flex-direction: column;z-index: 1;position: relative;background-color: white;}#sk-container-id-2 div.sk-parallel-item:first-child::after {align-self: flex-end;width: 50%;}#sk-container-id-2 div.sk-parallel-item:last-child::after {align-self: flex-start;width: 50%;}#sk-container-id-2 div.sk-parallel-item:only-child::after {width: 0;}#sk-container-id-2 div.sk-dashed-wrapped {border: 1px dashed gray;margin: 0 0.4em 0.5em 0.4em;box-sizing: border-box;padding-bottom: 0.4em;background-color: white;}#sk-container-id-2 div.sk-label label {font-family: monospace;font-weight: bold;display: inline-block;line-height: 1.2em;}#sk-container-id-2 div.sk-label-container {text-align: center;}#sk-container-id-2 div.sk-container {/* jupyter's `normalize.less` sets `[hidden] { display: none; }` but bootstrap.min.css set `[hidden] { display: none !important; }` so we also need the `!important` here to be able to override the default hidden behavior on the sphinx rendered scikit-learn.org. See: https://github.com/scikit-learn/scikit-learn/issues/21755 */display: inline-block !important;position: relative;}#sk-container-id-2 div.sk-text-repr-fallback {display: none;}</style><div id=\"sk-container-id-2\" class=\"sk-top-container\"><div class=\"sk-text-repr-fallback\"><pre>MultinomialNB()</pre><b>In a Jupyter environment, please rerun this cell to show the HTML representation or trust the notebook. <br />On GitHub, the HTML representation is unable to render, please try loading this page with nbviewer.org.</b></div><div class=\"sk-container\" hidden><div class=\"sk-item\"><div class=\"sk-estimator sk-toggleable\"><input class=\"sk-toggleable__control sk-hidden--visually\" id=\"sk-estimator-id-2\" type=\"checkbox\" checked><label for=\"sk-estimator-id-2\" class=\"sk-toggleable__label sk-toggleable__label-arrow\">MultinomialNB</label><div class=\"sk-toggleable__content\"><pre>MultinomialNB()</pre></div></div></div></div></div>"
      ],
      "text/plain": [
       "MultinomialNB()"
      ]
     },
     "execution_count": 83,
     "metadata": {},
     "output_type": "execute_result"
    }
   ],
   "source": [
    "#We'll use Multinomial Native Bayes classification model for this instance for it's simplicity, quickness. For a more advanced solution neural networks should be considered as an option\n",
    "\n",
    "model = MultinomialNB()\n",
    "model.fit(X_train, Y_train)\n"
   ]
  },
  {
   "cell_type": "code",
   "execution_count": 84,
   "id": "b501307d",
   "metadata": {},
   "outputs": [],
   "source": [
    "y_pred = model.predict(X_test)"
   ]
  },
  {
   "cell_type": "code",
   "execution_count": 85,
   "id": "5dbbf809",
   "metadata": {},
   "outputs": [
    {
     "name": "stdout",
     "output_type": "stream",
     "text": [
      "Accuracy is : 0.990390\n",
      "Precisions for each language : \n",
      "    Language  Precision score\n",
      "0        bg         1.000000\n",
      "1        cs         1.000000\n",
      "2        da         1.000000\n",
      "3        de         1.000000\n",
      "4        el         1.000000\n",
      "5        en         0.988095\n",
      "6        es         0.929412\n",
      "7        et         1.000000\n",
      "8        fi         1.000000\n",
      "9        fr         0.980198\n",
      "10       hu         0.956522\n",
      "11       it         0.974359\n",
      "12       lt         0.986301\n",
      "13       lv         1.000000\n",
      "14       nl         1.000000\n",
      "15       pl         1.000000\n",
      "16       pt         1.000000\n",
      "17       ro         1.000000\n",
      "18       sk         0.982759\n",
      "19       sl         1.000000\n",
      "20       sv         1.000000\n"
     ]
    }
   ],
   "source": [
    "from sklearn.metrics import accuracy_score, precision_score, recall_score\n",
    "ac = accuracy_score(Y_test, y_pred)\n",
    "prec = precision_score(Y_test, y_pred, average=None)\n",
    "rec = recall_score(Y_test, y_pred, average=None)\n",
    "prec_dict = {\"Language\": y_uniq, \"Precision score\":prec}\n",
    "prec_df = pd.DataFrame(prec_dict)\n",
    "\n",
    "print(f\"Accuracy is : {ac:.6f}\")\n",
    "print(f\"Precisions for each language : \\n {prec_df}\")"
   ]
  },
  {
   "cell_type": "markdown",
   "id": "5874a031",
   "metadata": {},
   "source": [
    "From the precision chart we can observe that the languages that have distinct characters or don't have close relatives in the dataset, are more easily recognisable by the model. For example, Portuguese has a precision of 1, even it is closely related with Spanish. This is likely due to the fact that Portuguese language has symbols like ç and ã. This can be further studied with a confusion matrix\n",
    "  "
   ]
  },
  {
   "cell_type": "code",
   "execution_count": 86,
   "id": "24c2c2a5",
   "metadata": {},
   "outputs": [
    {
     "data": {
      "image/png": "[encoded data removed]",
      "text/plain": [
       "<Figure size 800x600 with 1 Axes>"
      ]
     },
     "metadata": {},
     "output_type": "display_data"
    }
   ],
   "source": [
    "#Lets see the confusion matrix\n",
    "\n",
    "cm = confusion_matrix(Y_test, y_pred)\n",
    "plt.figure(figsize=(8, 6))\n",
    "sns.heatmap(cm, annot=True, fmt='d', cmap='Blues', cbar=False, xticklabels= y_uniq, yticklabels=y_uniq)\n",
    "plt.xlabel('Predicted labels')\n",
    "plt.ylabel('True labels')\n",
    "plt.title('Confusion Matrix')\n",
    "plt.show()"
   ]
  },
  {
   "cell_type": "code",
   "execution_count": 87,
   "id": "04168708",
   "metadata": {},
   "outputs": [],
   "source": [
    "# Let's create a function to test the model\n",
    "def predict(text):\n",
    "     x = cv.transform([text]).toarray() \n",
    "     lang = model.predict(x) \n",
    "     lang = le.inverse_transform(lang) \n",
    "     print(\"The language is in\",lang[0])\n",
    "    \n",
    "    "
   ]
  },
  {
   "cell_type": "code",
   "execution_count": 88,
   "id": "30cbe226",
   "metadata": {},
   "outputs": [
    {
     "name": "stdout",
     "output_type": "stream",
     "text": [
      "The language is in en\n"
     ]
    }
   ],
   "source": [
    "#English\n",
    "predict('Machine learning (ML) is an umbrella term for solving problems for which development of algorithms by human programmers would be cost-prohibitive, and instead the problems are solved by helping machines discover their own algorithms')"
   ]
  },
  {
   "cell_type": "code",
   "execution_count": 89,
   "id": "23ab7ff4",
   "metadata": {},
   "outputs": [
    {
     "name": "stdout",
     "output_type": "stream",
     "text": [
      "The language is in fi\n"
     ]
    }
   ],
   "source": [
    "#Finnish\n",
    "predict('Koneoppiminen (ML) on sateenvarjotermi sellaisten ongelmien ratkaisemiselle, joihin algoritmien kehittäminen ihmisohjelmoijien toimesta olisi liian kallista, ja sen sijaan ongelmat ratkaistaan auttamalla koneita \"löytämään\" omat algoritminsa.')"
   ]
  },
  {
   "cell_type": "code",
   "execution_count": 90,
   "id": "6c60ddd6",
   "metadata": {},
   "outputs": [
    {
     "name": "stdout",
     "output_type": "stream",
     "text": [
      "The language is in es\n"
     ]
    }
   ],
   "source": [
    "#Spanish\n",
    "predict('El aprendizaje automático (AM) es un término genérico para resolver problemas para los que el desarrollo de algoritmos por parte de programadores humanos resultaría prohibitivo y, en su lugar, los problemas se resuelven ayudando a las máquinas a \"descubrir\" sus \"propios\" algoritmos.')"
   ]
  },
  {
   "cell_type": "code",
   "execution_count": 91,
   "id": "3da7524a",
   "metadata": {},
   "outputs": [
    {
     "name": "stdout",
     "output_type": "stream",
     "text": [
      "The language is in fr\n"
     ]
    }
   ],
   "source": [
    "#French\n",
    "predict(\"L'apprentissage automatique est un terme générique qui désigne la résolution de problèmes pour lesquels le développement d'algorithmes par des programmeurs humains serait prohibitif, et qui sont résolus en aidant les machines à découvrir leurs propres algorithmes.\")"
   ]
  },
  {
   "cell_type": "code",
   "execution_count": 92,
   "id": "05dee992",
   "metadata": {},
   "outputs": [
    {
     "name": "stdout",
     "output_type": "stream",
     "text": [
      "The language is in pt\n"
     ]
    }
   ],
   "source": [
    "#Portuguese\n",
    "predict('A aprendizagem automática (AM) é um termo genérico para a resolução de problemas para os quais o desenvolvimento de algoritmos por programadores humanos teria custos proibitivos e, em vez disso, os problemas são resolvidos ajudando as máquinas a \"descobrir\" os seus \"próprios\" algoritmos')"
   ]
  },
  {
   "cell_type": "code",
   "execution_count": 93,
   "id": "8db337e4",
   "metadata": {},
   "outputs": [
    {
     "name": "stdout",
     "output_type": "stream",
     "text": [
      "The language is in sv\n"
     ]
    }
   ],
   "source": [
    "#Swedish\n",
    "predict('Maskininlärning (ML) är ett samlingsnamn för problemlösning där det skulle vara för dyrt för mänskliga programmerare att utveckla algoritmer, och där problemen istället löses genom att hjälpa maskiner att \"upptäcka\" sina \"egna\" algoritmer')"
   ]
  }
 ],
 "metadata": {
  "kernelspec": {
   "display_name": "Python 3.10 (tensorflow)",
   "language": "python",
   "name": "venv-metal"
  },
  "language_info": {
   "codemirror_mode": {
    "name": "ipython",
    "version": 3
   },
   "file_extension": ".py",
   "mimetype": "text/x-python",
   "name": "python",
   "nbconvert_exporter": "python",
   "pygments_lexer": "ipython3",
   "version": "3.9.6"
  }
 },
 "nbformat": 4,
 "nbformat_minor": 5
}
